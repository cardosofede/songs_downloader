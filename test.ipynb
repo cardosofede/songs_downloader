{
 "cells": [
  {
   "cell_type": "code",
   "execution_count": 7,
   "source": [
    "from pytube import YouTube\n",
    "import pandas as pd\n",
    "\n",
    "yt = YouTube('https://www.youtube.com/watch?v=zsvazTbGu-U')"
   ],
   "outputs": [],
   "metadata": {}
  },
  {
   "cell_type": "code",
   "execution_count": 3,
   "source": [
    "#Showing details\n",
    "print(\"Title: \",yt.title)\n",
    "print(\"Number of views: \",yt.views)\n",
    "print(\"Length of video: \",yt.length)\n",
    "print(\"Rating of video: \",yt.rating)"
   ],
   "outputs": [
    {
     "output_type": "stream",
     "name": "stdout",
     "text": [
      "Title:  LOS NOTA LOKOS ft. DE LA CALLE - VAMOS A AMANECER REMIX - KEVINMOTANERDJ & 1000.TON!\n",
      "Number of views:  18437\n",
      "Length of video:  126\n",
      "Rating of video:  4.951807\n"
     ]
    }
   ],
   "metadata": {}
  },
  {
   "cell_type": "code",
   "execution_count": 12,
   "source": [
    "yt.streams.filter(progressive=True, file_extension='wav').order_by('resolution')"
   ],
   "outputs": [
    {
     "output_type": "execute_result",
     "data": {
      "text/plain": [
       "[]"
      ]
     },
     "metadata": {},
     "execution_count": 12
    }
   ],
   "metadata": {}
  },
  {
   "cell_type": "code",
   "execution_count": 21,
   "source": [
    "yt.streams.get_audio_only().download(filename=f'{yt.title}.mp3', output_path='songs/')"
   ],
   "outputs": [
    {
     "output_type": "execute_result",
     "data": {
      "text/plain": [
       "'/home/cardosofede/Documentos/Dardonacci/songs_downloader/songs/LOS NOTA LOKOS ft. DE LA CALLE - VAMOS A AMANECER REMIX - KEVINMOTANERDJ & 1000.TON!.mp3'"
      ]
     },
     "metadata": {},
     "execution_count": 21
    }
   ],
   "metadata": {}
  },
  {
   "cell_type": "code",
   "execution_count": 18,
   "source": [],
   "outputs": [],
   "metadata": {}
  },
  {
   "cell_type": "code",
   "execution_count": 19,
   "source": [
    "lines"
   ],
   "outputs": [
    {
     "output_type": "execute_result",
     "data": {
      "text/plain": [
       "['https://www.youtube.com/watch?v=zsvazTbGu-U\\n',\n",
       " 'https://www.youtube.com/watch?v=zsvazTbGu-5']"
      ]
     },
     "metadata": {},
     "execution_count": 19
    }
   ],
   "metadata": {}
  },
  {
   "cell_type": "code",
   "execution_count": null,
   "source": [],
   "outputs": [],
   "metadata": {}
  }
 ],
 "metadata": {
  "orig_nbformat": 4,
  "language_info": {
   "name": "python",
   "version": "3.9.0",
   "mimetype": "text/x-python",
   "codemirror_mode": {
    "name": "ipython",
    "version": 3
   },
   "pygments_lexer": "ipython3",
   "nbconvert_exporter": "python",
   "file_extension": ".py"
  },
  "kernelspec": {
   "name": "python3",
   "display_name": "Python 3.9.0 64-bit ('yt_downloader': conda)"
  },
  "interpreter": {
   "hash": "6bed990912b578fa1233c2396354f0b3d94a6842ca5165207fc0dec86db5bb0d"
  }
 },
 "nbformat": 4,
 "nbformat_minor": 2
}